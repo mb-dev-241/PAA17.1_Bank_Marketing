{
 "cells": [
  {
   "cell_type": "markdown",
   "metadata": {},
   "source": [
    "# Practical Application III: Comparing Classifiers\n",
    "\n",
    "**Overview**: In this practical application, your goal is to compare the performance of the classifiers we encountered in this section, namely K Nearest Neighbor, Logistic Regression, Decision Trees, and Support Vector Machines.  We will utilize a dataset related to marketing bank products over the telephone.  \n",
    "\n"
   ]
  },
  {
   "cell_type": "markdown",
   "metadata": {},
   "source": [
    "### Getting Started\n",
    "\n",
    "Our dataset comes from the UCI Machine Learning repository [link](https://archive.ics.uci.edu/ml/datasets/bank+marketing).  The data is from a Portugese banking institution and is a collection of the results of multiple marketing campaigns.  We will make use of the article accompanying the dataset [here](CRISP-DM-BANK.pdf) for more information on the data and features.\n",
    "\n"
   ]
  },
  {
   "cell_type": "markdown",
   "metadata": {},
   "source": [
    "### Problem 1: Understanding the Data\n",
    "\n",
    "To gain a better understanding of the data, please read the information provided in the UCI link above, and examine the **Materials and Methods** section of the paper.  How many marketing campaigns does this data represent?"
   ]
  },
  {
   "cell_type": "markdown",
   "metadata": {},
   "source": [
    "**[Response]** Based on the paper cited, data was sampled beginning in May 2008 through June 2013. The number of marketing campaigns is not specified but 42 unique \"campaign\" IDs of decreasing size were seen in the dataset. "
   ]
  },
  {
   "cell_type": "markdown",
   "metadata": {},
   "source": [
    "### Problem 2: Read in the Data\n",
    "\n",
    "Use pandas to read in the dataset `bank-additional-full.csv` and assign to a meaningful variable name."
   ]
  },
  {
   "cell_type": "code",
   "execution_count": 1,
   "metadata": {},
   "outputs": [
    {
     "name": "stderr",
     "output_type": "stream",
     "text": [
      "Intel(R) Extension for Scikit-learn* enabled (https://github.com/intel/scikit-learn-intelex)\n"
     ]
    }
   ],
   "source": [
    "from sklearnex import patch_sklearn\n",
    "# The names match scikit-learn estimators\n",
    "patch_sklearn(\"SVC\")"
   ]
  },
  {
   "cell_type": "code",
   "execution_count": 2,
   "metadata": {},
   "outputs": [],
   "source": [
    "from sklearn.pipeline import Pipeline\n",
    "from sklearn.neighbors import KNeighborsClassifier\n",
    "from sklearn.model_selection import GridSearchCV, train_test_split, cross_val_score\n",
    "from sklearn.linear_model import LinearRegression, Ridge, Lasso, LogisticRegression, LogisticRegressionCV\n",
    "from sklearn.preprocessing import PolynomialFeatures, StandardScaler, OneHotEncoder\n",
    "from sklearn.compose import make_column_transformer, TransformedTargetRegressor, ColumnTransformer\n",
    "from sklearn.inspection import permutation_importance\n",
    "from sklearn.feature_selection import SequentialFeatureSelector, SelectFromModel, RFE\n",
    "from sklearn.metrics import mean_squared_error, confusion_matrix, precision_score, recall_score, accuracy_score, ConfusionMatrixDisplay, RocCurveDisplay\n",
    "from sklearn.impute import SimpleImputer\n",
    "from sklearn.svm import SVC\n",
    "from sklearn.tree import DecisionTreeClassifier, export_text, plot_tree\n",
    "\n",
    "from category_encoders.cat_boost import CatBoostEncoder\n",
    "\n",
    "import scipy\n",
    "import numpy as np\n",
    "import plotly.express as px\n",
    "import matplotlib.pyplot as plt\n",
    "import seaborn as sns\n",
    "import pandas as pd\n",
    "import re\n",
    "import time\n",
    "import warnings"
   ]
  },
  {
   "cell_type": "code",
   "execution_count": 3,
   "metadata": {},
   "outputs": [],
   "source": [
    "warnings.filterwarnings('ignore')"
   ]
  },
  {
   "cell_type": "code",
   "execution_count": 4,
   "metadata": {},
   "outputs": [],
   "source": [
    "bank = pd.read_csv('data/bank-additional-full.csv', sep = ';')"
   ]
  },
  {
   "cell_type": "code",
   "execution_count": 5,
   "metadata": {},
   "outputs": [
    {
     "data": {
      "text/html": [
       "<div>\n",
       "<style scoped>\n",
       "    .dataframe tbody tr th:only-of-type {\n",
       "        vertical-align: middle;\n",
       "    }\n",
       "\n",
       "    .dataframe tbody tr th {\n",
       "        vertical-align: top;\n",
       "    }\n",
       "\n",
       "    .dataframe thead th {\n",
       "        text-align: right;\n",
       "    }\n",
       "</style>\n",
       "<table border=\"1\" class=\"dataframe\">\n",
       "  <thead>\n",
       "    <tr style=\"text-align: right;\">\n",
       "      <th></th>\n",
       "      <th>age</th>\n",
       "      <th>job</th>\n",
       "      <th>marital</th>\n",
       "      <th>education</th>\n",
       "      <th>default</th>\n",
       "      <th>housing</th>\n",
       "      <th>loan</th>\n",
       "      <th>contact</th>\n",
       "      <th>month</th>\n",
       "      <th>day_of_week</th>\n",
       "      <th>...</th>\n",
       "      <th>campaign</th>\n",
       "      <th>pdays</th>\n",
       "      <th>previous</th>\n",
       "      <th>poutcome</th>\n",
       "      <th>emp.var.rate</th>\n",
       "      <th>cons.price.idx</th>\n",
       "      <th>cons.conf.idx</th>\n",
       "      <th>euribor3m</th>\n",
       "      <th>nr.employed</th>\n",
       "      <th>y</th>\n",
       "    </tr>\n",
       "  </thead>\n",
       "  <tbody>\n",
       "    <tr>\n",
       "      <th>0</th>\n",
       "      <td>56</td>\n",
       "      <td>housemaid</td>\n",
       "      <td>married</td>\n",
       "      <td>basic.4y</td>\n",
       "      <td>no</td>\n",
       "      <td>no</td>\n",
       "      <td>no</td>\n",
       "      <td>telephone</td>\n",
       "      <td>may</td>\n",
       "      <td>mon</td>\n",
       "      <td>...</td>\n",
       "      <td>1</td>\n",
       "      <td>999</td>\n",
       "      <td>0</td>\n",
       "      <td>nonexistent</td>\n",
       "      <td>1.1</td>\n",
       "      <td>93.994</td>\n",
       "      <td>-36.4</td>\n",
       "      <td>4.857</td>\n",
       "      <td>5191.0</td>\n",
       "      <td>no</td>\n",
       "    </tr>\n",
       "    <tr>\n",
       "      <th>1</th>\n",
       "      <td>57</td>\n",
       "      <td>services</td>\n",
       "      <td>married</td>\n",
       "      <td>high.school</td>\n",
       "      <td>unknown</td>\n",
       "      <td>no</td>\n",
       "      <td>no</td>\n",
       "      <td>telephone</td>\n",
       "      <td>may</td>\n",
       "      <td>mon</td>\n",
       "      <td>...</td>\n",
       "      <td>1</td>\n",
       "      <td>999</td>\n",
       "      <td>0</td>\n",
       "      <td>nonexistent</td>\n",
       "      <td>1.1</td>\n",
       "      <td>93.994</td>\n",
       "      <td>-36.4</td>\n",
       "      <td>4.857</td>\n",
       "      <td>5191.0</td>\n",
       "      <td>no</td>\n",
       "    </tr>\n",
       "    <tr>\n",
       "      <th>2</th>\n",
       "      <td>37</td>\n",
       "      <td>services</td>\n",
       "      <td>married</td>\n",
       "      <td>high.school</td>\n",
       "      <td>no</td>\n",
       "      <td>yes</td>\n",
       "      <td>no</td>\n",
       "      <td>telephone</td>\n",
       "      <td>may</td>\n",
       "      <td>mon</td>\n",
       "      <td>...</td>\n",
       "      <td>1</td>\n",
       "      <td>999</td>\n",
       "      <td>0</td>\n",
       "      <td>nonexistent</td>\n",
       "      <td>1.1</td>\n",
       "      <td>93.994</td>\n",
       "      <td>-36.4</td>\n",
       "      <td>4.857</td>\n",
       "      <td>5191.0</td>\n",
       "      <td>no</td>\n",
       "    </tr>\n",
       "    <tr>\n",
       "      <th>3</th>\n",
       "      <td>40</td>\n",
       "      <td>admin.</td>\n",
       "      <td>married</td>\n",
       "      <td>basic.6y</td>\n",
       "      <td>no</td>\n",
       "      <td>no</td>\n",
       "      <td>no</td>\n",
       "      <td>telephone</td>\n",
       "      <td>may</td>\n",
       "      <td>mon</td>\n",
       "      <td>...</td>\n",
       "      <td>1</td>\n",
       "      <td>999</td>\n",
       "      <td>0</td>\n",
       "      <td>nonexistent</td>\n",
       "      <td>1.1</td>\n",
       "      <td>93.994</td>\n",
       "      <td>-36.4</td>\n",
       "      <td>4.857</td>\n",
       "      <td>5191.0</td>\n",
       "      <td>no</td>\n",
       "    </tr>\n",
       "    <tr>\n",
       "      <th>4</th>\n",
       "      <td>56</td>\n",
       "      <td>services</td>\n",
       "      <td>married</td>\n",
       "      <td>high.school</td>\n",
       "      <td>no</td>\n",
       "      <td>no</td>\n",
       "      <td>yes</td>\n",
       "      <td>telephone</td>\n",
       "      <td>may</td>\n",
       "      <td>mon</td>\n",
       "      <td>...</td>\n",
       "      <td>1</td>\n",
       "      <td>999</td>\n",
       "      <td>0</td>\n",
       "      <td>nonexistent</td>\n",
       "      <td>1.1</td>\n",
       "      <td>93.994</td>\n",
       "      <td>-36.4</td>\n",
       "      <td>4.857</td>\n",
       "      <td>5191.0</td>\n",
       "      <td>no</td>\n",
       "    </tr>\n",
       "  </tbody>\n",
       "</table>\n",
       "<p>5 rows × 21 columns</p>\n",
       "</div>"
      ],
      "text/plain": [
       "   age        job  marital    education  default housing loan    contact  \\\n",
       "0   56  housemaid  married     basic.4y       no      no   no  telephone   \n",
       "1   57   services  married  high.school  unknown      no   no  telephone   \n",
       "2   37   services  married  high.school       no     yes   no  telephone   \n",
       "3   40     admin.  married     basic.6y       no      no   no  telephone   \n",
       "4   56   services  married  high.school       no      no  yes  telephone   \n",
       "\n",
       "  month day_of_week  ...  campaign  pdays  previous     poutcome emp.var.rate  \\\n",
       "0   may         mon  ...         1    999         0  nonexistent          1.1   \n",
       "1   may         mon  ...         1    999         0  nonexistent          1.1   \n",
       "2   may         mon  ...         1    999         0  nonexistent          1.1   \n",
       "3   may         mon  ...         1    999         0  nonexistent          1.1   \n",
       "4   may         mon  ...         1    999         0  nonexistent          1.1   \n",
       "\n",
       "   cons.price.idx  cons.conf.idx  euribor3m  nr.employed   y  \n",
       "0          93.994          -36.4      4.857       5191.0  no  \n",
       "1          93.994          -36.4      4.857       5191.0  no  \n",
       "2          93.994          -36.4      4.857       5191.0  no  \n",
       "3          93.994          -36.4      4.857       5191.0  no  \n",
       "4          93.994          -36.4      4.857       5191.0  no  \n",
       "\n",
       "[5 rows x 21 columns]"
      ]
     },
     "execution_count": 5,
     "metadata": {},
     "output_type": "execute_result"
    }
   ],
   "source": [
    "bank.head()"
   ]
  },
  {
   "cell_type": "code",
   "execution_count": 6,
   "metadata": {},
   "outputs": [
    {
     "name": "stdout",
     "output_type": "stream",
     "text": [
      "<class 'pandas.core.frame.DataFrame'>\n",
      "RangeIndex: 41188 entries, 0 to 41187\n",
      "Data columns (total 21 columns):\n",
      " #   Column          Non-Null Count  Dtype  \n",
      "---  ------          --------------  -----  \n",
      " 0   age             41188 non-null  int64  \n",
      " 1   job             41188 non-null  object \n",
      " 2   marital         41188 non-null  object \n",
      " 3   education       41188 non-null  object \n",
      " 4   default         41188 non-null  object \n",
      " 5   housing         41188 non-null  object \n",
      " 6   loan            41188 non-null  object \n",
      " 7   contact         41188 non-null  object \n",
      " 8   month           41188 non-null  object \n",
      " 9   day_of_week     41188 non-null  object \n",
      " 10  duration        41188 non-null  int64  \n",
      " 11  campaign        41188 non-null  int64  \n",
      " 12  pdays           41188 non-null  int64  \n",
      " 13  previous        41188 non-null  int64  \n",
      " 14  poutcome        41188 non-null  object \n",
      " 15  emp.var.rate    41188 non-null  float64\n",
      " 16  cons.price.idx  41188 non-null  float64\n",
      " 17  cons.conf.idx   41188 non-null  float64\n",
      " 18  euribor3m       41188 non-null  float64\n",
      " 19  nr.employed     41188 non-null  float64\n",
      " 20  y               41188 non-null  object \n",
      "dtypes: float64(5), int64(5), object(11)\n",
      "memory usage: 6.6+ MB\n"
     ]
    }
   ],
   "source": [
    "bank.info()"
   ]
  },
  {
   "cell_type": "markdown",
   "metadata": {},
   "source": [
    "### Problem 3: Understanding the Features\n",
    "\n",
    "\n",
    "Examine the data description below, and determine if any of the features are missing values or need to be coerced to a different data type.\n",
    "\n",
    "\n",
    "```\n",
    "Input variables:\n",
    "# bank client data:\n",
    "1 - age (numeric)\n",
    "2 - job : type of job (categorical: 'admin.','blue-collar','entrepreneur','housemaid','management','retired','self-employed','services','student','technician','unemployed','unknown')\n",
    "3 - marital : marital status (categorical: 'divorced','married','single','unknown'; note: 'divorced' means divorced or widowed)\n",
    "4 - education (categorical: 'basic.4y','basic.6y','basic.9y','high.school','illiterate','professional.course','university.degree','unknown')\n",
    "5 - default: has credit in default? (categorical: 'no','yes','unknown')\n",
    "6 - housing: has housing loan? (categorical: 'no','yes','unknown')\n",
    "7 - loan: has personal loan? (categorical: 'no','yes','unknown')\n",
    "# related with the last contact of the current campaign:\n",
    "8 - contact: contact communication type (categorical: 'cellular','telephone')\n",
    "9 - month: last contact month of year (categorical: 'jan', 'feb', 'mar', ..., 'nov', 'dec')\n",
    "10 - day_of_week: last contact day of the week (categorical: 'mon','tue','wed','thu','fri')\n",
    "11 - duration: last contact duration, in seconds (numeric). Important note: this attribute highly affects the output target (e.g., if duration=0 then y='no'). Yet, the duration is not known before a call is performed. Also, after the end of the call y is obviously known. Thus, this input should only be included for benchmark purposes and should be discarded if the intention is to have a realistic predictive model.\n",
    "# other attributes:\n",
    "12 - campaign: number of contacts performed during this campaign and for this client (numeric, includes last contact)\n",
    "13 - pdays: number of days that passed by after the client was last contacted from a previous campaign (numeric; 999 means client was not previously contacted)\n",
    "14 - previous: number of contacts performed before this campaign and for this client (numeric)\n",
    "15 - poutcome: outcome of the previous marketing campaign (categorical: 'failure','nonexistent','success')\n",
    "# social and economic context attributes\n",
    "16 - emp.var.rate: employment variation rate - quarterly indicator (numeric)\n",
    "17 - cons.price.idx: consumer price index - monthly indicator (numeric)\n",
    "18 - cons.conf.idx: consumer confidence index - monthly indicator (numeric)\n",
    "19 - euribor3m: euribor 3 month rate - daily indicator (numeric)\n",
    "20 - nr.employed: number of employees - quarterly indicator (numeric)\n",
    "\n",
    "Output variable (desired target):\n",
    "21 - y - has the client subscribed a term deposit? (binary: 'yes','no')\n",
    "```\n",
    "\n"
   ]
  },
  {
   "cell_type": "code",
   "execution_count": null,
   "metadata": {},
   "outputs": [],
   "source": []
  },
  {
   "cell_type": "code",
   "execution_count": 7,
   "metadata": {},
   "outputs": [
    {
     "data": {
      "text/plain": [
       "default\n",
       "no         32588\n",
       "unknown     8597\n",
       "yes            3\n",
       "Name: count, dtype: int64"
      ]
     },
     "execution_count": 7,
     "metadata": {},
     "output_type": "execute_result"
    }
   ],
   "source": [
    "bank.value_counts('default')  "
   ]
  },
  {
   "cell_type": "markdown",
   "metadata": {},
   "source": [
    "**[Response]** We notice that there are 3 \"yes\" values in the default column. This is not enough data to form conclusions so we set these 3 entries to \"unknown\" for purposes of this analysis. This is the only modification we make to our source data."
   ]
  },
  {
   "cell_type": "code",
   "execution_count": 8,
   "metadata": {},
   "outputs": [
    {
     "data": {
      "text/plain": [
       "y\n",
       "no     36548\n",
       "yes     4640\n",
       "Name: count, dtype: int64"
      ]
     },
     "execution_count": 8,
     "metadata": {},
     "output_type": "execute_result"
    }
   ],
   "source": [
    "bank.value_counts('y')"
   ]
  },
  {
   "cell_type": "markdown",
   "metadata": {},
   "source": [
    "**[Response]** We notice that roughly 85% of the customers do not accept the offer. Without additional business context, this would still seem to be an impressive acceptance rate for a telemarketing campaign."
   ]
  },
  {
   "cell_type": "code",
   "execution_count": null,
   "metadata": {},
   "outputs": [],
   "source": []
  },
  {
   "cell_type": "markdown",
   "metadata": {},
   "source": [
    "### Problem 4: Understanding the Task\n",
    "\n",
    "After examining the description and data, your goal now is to clearly state the *Business Objective* of the task.  State the objective below."
   ]
  },
  {
   "cell_type": "markdown",
   "metadata": {},
   "source": [
    "**[Response]** The business objective is to predict the success of a bank's telemarketing campaigns which sell interest rate products. We are provided several features related to customers as well as general economic indicators as inputs to our model. \n",
    "\n",
    "Using these features, we need to create a model that gives the business the highest confidence that customers with known characteristics can be identified (and likely targeted) for future marketing campaigns."
   ]
  },
  {
   "cell_type": "code",
   "execution_count": null,
   "metadata": {},
   "outputs": [],
   "source": []
  },
  {
   "cell_type": "markdown",
   "metadata": {},
   "source": [
    "### Problem 5: Engineering Features\n",
    "\n",
    "Now that you understand your business objective, we will build a basic model to get started.  Before we can do this, we must work to encode the data.  Using just the bank information features (columns 1 - 7), prepare the features and target column for modeling with appropriate encoding and transformations."
   ]
  },
  {
   "cell_type": "markdown",
   "metadata": {},
   "source": [
    "**[Response]** In our initial data review, we noticed some outliers with the 'default' column where only 3 values were 'yes'. We move these to 'unknown' to ensure sufficient training data for the model"
   ]
  },
  {
   "cell_type": "code",
   "execution_count": 9,
   "metadata": {},
   "outputs": [],
   "source": [
    "# replace 3 customers in default with 'unknown' \n",
    "\n",
    "bank.replace({'default': 'yes'}, 'unknown', inplace=True)"
   ]
  },
  {
   "cell_type": "markdown",
   "metadata": {},
   "source": [
    "**[Response]** The duration column needs to be discarded for predictive modeling per the notes in the dataset."
   ]
  },
  {
   "cell_type": "code",
   "execution_count": 10,
   "metadata": {},
   "outputs": [],
   "source": [
    "bank.drop(columns=['duration'], inplace=True)"
   ]
  },
  {
   "cell_type": "code",
   "execution_count": null,
   "metadata": {},
   "outputs": [],
   "source": []
  },
  {
   "cell_type": "code",
   "execution_count": null,
   "metadata": {},
   "outputs": [],
   "source": []
  },
  {
   "cell_type": "markdown",
   "metadata": {},
   "source": [
    "### Problem 6: Train/Test Split\n",
    "\n",
    "With your data prepared, split it into a train and test set."
   ]
  },
  {
   "cell_type": "code",
   "execution_count": 11,
   "metadata": {},
   "outputs": [],
   "source": [
    "# use the 'y' column as the target\n",
    "\n",
    "X, y = bank.drop(columns=['y']), bank['y']\n",
    "X_train, X_test, y_train, y_test = train_test_split(X, y, test_size=0.2, random_state=34)"
   ]
  },
  {
   "cell_type": "code",
   "execution_count": 12,
   "metadata": {},
   "outputs": [],
   "source": [
    "# map the 'yes/no' values in the target column to numeric values for modeling purposes\n",
    "\n",
    "target_map = {'yes': 1, 'no': 0}\n",
    "y_train_numeric = y_train.map(target_map)\n",
    "y_test_numeric = y_test.map(target_map)"
   ]
  },
  {
   "cell_type": "code",
   "execution_count": null,
   "metadata": {},
   "outputs": [],
   "source": []
  },
  {
   "cell_type": "markdown",
   "metadata": {},
   "source": [
    "### Problem 7: A Baseline Model\n",
    "\n",
    "Before we build our first model, we want to establish a baseline.  What is the baseline performance that our classifier should aim to beat?"
   ]
  },
  {
   "cell_type": "markdown",
   "metadata": {},
   "source": [
    "**[Response]** A baseline performance metric for our classifier would be to improve on the accuracy of guessing the largest class (Zero Rule). The Zero Rule is difficult to beat in this dataset as the baseline rejection rate for our test data is 88.3%. Thus, accuracy above 88.3% would be required to acheive better results than assuming all customers will reject the offer."
   ]
  },
  {
   "cell_type": "code",
   "execution_count": null,
   "metadata": {},
   "outputs": [],
   "source": []
  },
  {
   "cell_type": "code",
   "execution_count": null,
   "metadata": {},
   "outputs": [],
   "source": []
  },
  {
   "cell_type": "markdown",
   "metadata": {},
   "source": [
    "### Problem 8: Modeling\n",
    "\n",
    "Build models for your data using several classifier types (Logistic Regression, Decision Tree, KNN, and SVM)"
   ]
  },
  {
   "cell_type": "code",
   "execution_count": null,
   "metadata": {},
   "outputs": [],
   "source": []
  },
  {
   "cell_type": "code",
   "execution_count": 13,
   "metadata": {},
   "outputs": [],
   "source": [
    "# explicit list of numeric/categorical features for different treatment in a pipeline\n",
    "\n",
    "numeric_features = ['age', 'campaign', 'pdays', 'previous', 'emp.var.rate', 'cons.price.idx', \\\n",
    "                    'cons.conf.idx', 'euribor3m', 'nr.employed']\n",
    "categorical_features = [ 'job', 'marital', 'education', 'default', 'housing', 'loan', 'contact', \\\n",
    "                        'poutcome', 'month', 'day_of_week' ]"
   ]
  },
  {
   "cell_type": "code",
   "execution_count": 14,
   "metadata": {},
   "outputs": [],
   "source": [
    "# Package the hyperparameters into a list for batch testing\n",
    "\n",
    "hyperparams = [ {}, {}, {}, {} ]"
   ]
  },
  {
   "cell_type": "code",
   "execution_count": 15,
   "metadata": {},
   "outputs": [],
   "source": [
    "# Package classifiers into a list for batch testing\n",
    "\n",
    "classifiers = [ LogisticRegression(random_state=42, max_iter=1000),\n",
    "                KNeighborsClassifier(),\n",
    "                DecisionTreeClassifier(random_state=42),\n",
    "                SVC(random_state=42, cache_size=2000)\n",
    "              ]"
   ]
  },
  {
   "cell_type": "code",
   "execution_count": 16,
   "metadata": {},
   "outputs": [],
   "source": [
    "# fit a single classifier grid \n",
    "\n",
    "def fit_classifier_grid(classifier=None, X=None, y=None, **gs_params):\n",
    "    \"\"\"Fit a GridSearchCV object for the classifier provided\n",
    "    \n",
    "    Parameters\n",
    "    ----------\n",
    "    classifier: single classifier\n",
    "    X: training vector\n",
    "    y: target vector\n",
    "    gs_params: additional parameters for GridSearchCV instantiation\n",
    "    \"\"\"\n",
    "        \n",
    "    categorical_transformer = Pipeline(\n",
    "        [ \n",
    "            ('imputer_cat', SimpleImputer(strategy=\"constant\", fill_value=\"unknown\").set_output(transform=\"pandas\")), \n",
    "            #('onehot', OneHotEncoder(drop='if_binary', handle_unknown='ignore'))\n",
    "            ('catboost', CatBoostEncoder())\n",
    "        ]\n",
    "    )\n",
    "\n",
    "    numeric_transformer = Pipeline(\n",
    "        [\n",
    "            ('imputer_num', SimpleImputer(strategy=\"mean\").set_output(transform=\"pandas\")),\n",
    "            ('poly', PolynomialFeatures(degree=3))\n",
    "        ]\n",
    "    )\n",
    "\n",
    "    preprocessor = ColumnTransformer(\n",
    "        [\n",
    "            ('categorical', categorical_transformer, categorical_features),\n",
    "            ('numeric', numeric_transformer, numeric_features)\n",
    "        ]\n",
    "    )\n",
    "\n",
    "    cls_pipe = Pipeline( \n",
    "        [\n",
    "            ('preprocess', preprocessor),\n",
    "            ('scaler', StandardScaler(with_mean=False)),\n",
    "            ('classifier', classifier)\n",
    "        ]\n",
    "    )\n",
    "\n",
    "    cls_grid = GridSearchCV(cls_pipe, **gs_params)\n",
    "    cls_grid.fit(X, y)\n",
    "    \n",
    "    return cls_grid"
   ]
  },
  {
   "cell_type": "code",
   "execution_count": 17,
   "metadata": {},
   "outputs": [],
   "source": [
    "# fit a list of classifiers\n",
    "\n",
    "def fit_all_grids(cls_list=[], X=None, y=None, hp_list=[], **gs_params):\n",
    "    \"\"\"Fit GridSearchCV objects for a given list of classifiers \n",
    "    \n",
    "    Parameters\n",
    "    ----------\n",
    "    cls_list: list of classifiers\n",
    "    X: training vector\n",
    "    y: target vector\n",
    "    hp_list: list of hyperparameters for grid search\n",
    "    gs_params: additional params for GridSearchCV instantiation\n",
    "    \"\"\"\n",
    "    results = []\n",
    "    for classifier, hyperparam in zip(cls_list, hp_list):\n",
    "        classifier_name = type(classifier).__name__\n",
    "        print('Running classifier: %s' % (classifier_name,))\n",
    "        print()\n",
    "    \n",
    "        result = fit_classifier_grid(classifier, X, y, param_grid=hyperparam, **gs_params)\n",
    "                         \n",
    "        cputime = np.sum(result.cv_results_['mean_fit_time']) + \\\n",
    "                    np.sum(result.cv_results_['mean_score_time'])\n",
    "    \n",
    "        print('cputime: %.1f sec' % (cputime,))\n",
    "        print('----------------------------------------------------')\n",
    "    \n",
    "        results.append(result)\n",
    "        \n",
    "    return results"
   ]
  },
  {
   "cell_type": "code",
   "execution_count": 18,
   "metadata": {},
   "outputs": [
    {
     "name": "stdout",
     "output_type": "stream",
     "text": [
      "Running classifier: LogisticRegression\n",
      "\n",
      "Fitting 5 folds for each of 1 candidates, totalling 5 fits\n",
      "cputime: 46.1 sec\n",
      "----------------------------------------------------\n",
      "Running classifier: KNeighborsClassifier\n",
      "\n",
      "Fitting 5 folds for each of 1 candidates, totalling 5 fits\n",
      "cputime: 5.0 sec\n",
      "----------------------------------------------------\n",
      "Running classifier: DecisionTreeClassifier\n",
      "\n",
      "Fitting 5 folds for each of 1 candidates, totalling 5 fits\n",
      "cputime: 8.3 sec\n",
      "----------------------------------------------------\n",
      "Running classifier: SVC\n",
      "\n",
      "Fitting 5 folds for each of 1 candidates, totalling 5 fits\n",
      "cputime: 19.2 sec\n",
      "----------------------------------------------------\n"
     ]
    }
   ],
   "source": [
    "# gather results for all classifiers with given hyperparameters (default settings in this run)\n",
    "\n",
    "all_results = fit_all_grids(classifiers, X_train, y_train_numeric, hyperparams, \\\n",
    "                            n_jobs=5, cv=5, scoring='accuracy', verbose=10)"
   ]
  },
  {
   "cell_type": "markdown",
   "metadata": {},
   "source": [
    "### Problem 9: Score the Model\n",
    "\n",
    "What is the accuracy of your model?"
   ]
  },
  {
   "cell_type": "code",
   "execution_count": 19,
   "metadata": {},
   "outputs": [],
   "source": [
    "# Report train/test scores on all classifier grids\n",
    "\n",
    "def gen_scores(grid_list=[], X=None, y=None):\n",
    "    \"\"\"Generate scoring statistics from a list of fit grids\n",
    "    \n",
    "    Parameters\n",
    "    ----------\n",
    "    grid_list : list of GridSearchCV objects\n",
    "    X: training vector\n",
    "    y: target vector\n",
    "    \"\"\"\n",
    "    scoring_metric = re.search('\\((.+)_score', str(grid_list[0].scorer_)).group(1)\n",
    "    scores_df = pd.DataFrame(columns=['Model', 'Train Time', 'Train ' + scoring_metric, 'Test ' + scoring_metric])\n",
    "\n",
    "    for grid in grid_list:\n",
    "        best_est = grid.best_estimator_\n",
    "        best_class = best_est['classifier']\n",
    "        best_train_score = grid.best_score_\n",
    "        best_test_score = grid.score(X, y)\n",
    "        classifier_name = type(best_class).__name__\n",
    "        cputime = np.sum(grid.cv_results_['mean_fit_time']) + \\\n",
    "                    np.sum(grid.cv_results_['mean_score_time'])\n",
    "       \n",
    "        print('Results for classifier: %s' % (classifier_name,))\n",
    "        print()\n",
    "        print(f'The best train score using scoring metric \"{scoring_metric:s}\" is: {best_train_score: .6f}')\n",
    "        print(f'The best test  score using scoring metric \"{scoring_metric:s}\" is: {best_test_score: .6f}')\n",
    "        #print(best_est.get_params())\n",
    "        print('----------------------------------------------------')\n",
    "    \n",
    "        scores_df.loc[len(scores_df)] = [classifier_name, cputime, best_train_score, best_test_score]\n",
    "    \n",
    "    return scores_df"
   ]
  },
  {
   "cell_type": "code",
   "execution_count": 20,
   "metadata": {},
   "outputs": [
    {
     "name": "stdout",
     "output_type": "stream",
     "text": [
      "Results for classifier: LogisticRegression\n",
      "\n",
      "The best train score using scoring metric \"accuracy\" is:  0.899757\n",
      "The best test  score using scoring metric \"accuracy\" is:  0.897669\n",
      "----------------------------------------------------\n",
      "Results for classifier: KNeighborsClassifier\n",
      "\n",
      "The best train score using scoring metric \"accuracy\" is:  0.891320\n",
      "The best test  score using scoring metric \"accuracy\" is:  0.889294\n",
      "----------------------------------------------------\n",
      "Results for classifier: DecisionTreeClassifier\n",
      "\n",
      "The best train score using scoring metric \"accuracy\" is:  0.840091\n",
      "The best test  score using scoring metric \"accuracy\" is:  0.840495\n",
      "----------------------------------------------------\n",
      "Results for classifier: SVC\n",
      "\n",
      "The best train score using scoring metric \"accuracy\" is:  0.898483\n",
      "The best test  score using scoring metric \"accuracy\" is:  0.893664\n",
      "----------------------------------------------------\n"
     ]
    }
   ],
   "source": [
    "# score the fit classifiers\n",
    "\n",
    "model_df = gen_scores(all_results, X_test, y_test_numeric)"
   ]
  },
  {
   "cell_type": "markdown",
   "metadata": {},
   "source": [
    "### Problem 10: Model Comparisons\n",
    "\n",
    "Now, we aim to compare the performance of the Logistic Regression model to our KNN algorithm, Decision Tree, and SVM models.  Using the default settings for each of the models, fit and score each.  Also, be sure to compare the fit time of each of the models.  Present your findings in a `DataFrame` similar to that below:\n",
    "\n",
    "| Model | Train Time | Train Accuracy | Test Accuracy |\n",
    "| ----- | ---------- | -------------  | -----------   |\n",
    "|     |    |.     |.     |"
   ]
  },
  {
   "cell_type": "code",
   "execution_count": 21,
   "metadata": {},
   "outputs": [
    {
     "data": {
      "text/html": [
       "<div>\n",
       "<style scoped>\n",
       "    .dataframe tbody tr th:only-of-type {\n",
       "        vertical-align: middle;\n",
       "    }\n",
       "\n",
       "    .dataframe tbody tr th {\n",
       "        vertical-align: top;\n",
       "    }\n",
       "\n",
       "    .dataframe thead th {\n",
       "        text-align: right;\n",
       "    }\n",
       "</style>\n",
       "<table border=\"1\" class=\"dataframe\">\n",
       "  <thead>\n",
       "    <tr style=\"text-align: right;\">\n",
       "      <th></th>\n",
       "      <th>Model</th>\n",
       "      <th>Train Time</th>\n",
       "      <th>Train accuracy</th>\n",
       "      <th>Test accuracy</th>\n",
       "    </tr>\n",
       "  </thead>\n",
       "  <tbody>\n",
       "    <tr>\n",
       "      <th>0</th>\n",
       "      <td>LogisticRegression</td>\n",
       "      <td>46.140646</td>\n",
       "      <td>0.899757</td>\n",
       "      <td>0.897669</td>\n",
       "    </tr>\n",
       "    <tr>\n",
       "      <th>1</th>\n",
       "      <td>KNeighborsClassifier</td>\n",
       "      <td>5.034887</td>\n",
       "      <td>0.891320</td>\n",
       "      <td>0.889294</td>\n",
       "    </tr>\n",
       "    <tr>\n",
       "      <th>2</th>\n",
       "      <td>DecisionTreeClassifier</td>\n",
       "      <td>8.269060</td>\n",
       "      <td>0.840091</td>\n",
       "      <td>0.840495</td>\n",
       "    </tr>\n",
       "    <tr>\n",
       "      <th>3</th>\n",
       "      <td>SVC</td>\n",
       "      <td>19.238632</td>\n",
       "      <td>0.898483</td>\n",
       "      <td>0.893664</td>\n",
       "    </tr>\n",
       "  </tbody>\n",
       "</table>\n",
       "</div>"
      ],
      "text/plain": [
       "                    Model  Train Time  Train accuracy  Test accuracy\n",
       "0      LogisticRegression   46.140646        0.899757       0.897669\n",
       "1    KNeighborsClassifier    5.034887        0.891320       0.889294\n",
       "2  DecisionTreeClassifier    8.269060        0.840091       0.840495\n",
       "3                     SVC   19.238632        0.898483       0.893664"
      ]
     },
     "execution_count": 21,
     "metadata": {},
     "output_type": "execute_result"
    }
   ],
   "source": [
    "model_df"
   ]
  },
  {
   "cell_type": "markdown",
   "metadata": {},
   "source": [
    "**[Response]** Using baseline parameters, most models had similar performance, except the decision tree classifier. Fit times varied widely, with Logistic Regression having a signficantly longer training time."
   ]
  },
  {
   "cell_type": "markdown",
   "metadata": {},
   "source": [
    "### Problem 11: Improving the Model\n",
    "\n",
    "Now that we have some basic models on the board, we want to try to improve these.  Below, we list a few things to explore in this pursuit.\n",
    "\n",
    "- More feature engineering and exploration.  For example, should we keep the gender feature?  Why or why not?\n",
    "- Hyperparameter tuning and grid search.  All of our models have additional hyperparameters to tune and explore.  For example the number of neighbors in KNN or the maximum depth of a Decision Tree.  \n",
    "- Adjust your performance metric"
   ]
  },
  {
   "cell_type": "markdown",
   "metadata": {},
   "source": [
    "**[Response]** In our initial exploration, we kept the default parameters for all 4 classifiers. In this section, we explore additional hyperparameters for each classifier. "
   ]
  },
  {
   "cell_type": "code",
   "execution_count": 22,
   "metadata": {},
   "outputs": [],
   "source": [
    "# Create unique hyperparameters for each classifer\n",
    "lr_params  = { 'classifier__C': [1.0, 0.1, 0.01, 0.001], \n",
    "               'classifier__solver': ['lbfgs'] }\n",
    "knn_params = { 'classifier__n_neighbors':list(range(1,50,2)) }\n",
    "dt_params  = { 'classifier__max_depth': list(range(1,21,4)),\n",
    "               'classifier__min_samples_split': list(range(2,21,4)),\n",
    "               'classifier__criterion': ['gini', 'entropy', 'log_loss'],\n",
    "               'classifier__min_samples_leaf': list(range(1,21,4)) }\n",
    "svc_params = { 'classifier__gamma': [0.01, 0.02, 0.05, 0.1, 0.2, 1.0],\n",
    "               'classifier__kernel': ['rbf', 'sigmoid'] }\n",
    "\n",
    "# Package the hyperparameters into a list for batch testing\n",
    "hyperparams = [ lr_params, knn_params, dt_params, svc_params ]"
   ]
  },
  {
   "cell_type": "code",
   "execution_count": 23,
   "metadata": {},
   "outputs": [
    {
     "name": "stdout",
     "output_type": "stream",
     "text": [
      "Running classifier: LogisticRegression\n",
      "\n",
      "Fitting 5 folds for each of 4 candidates, totalling 20 fits\n",
      "cputime: 123.2 sec\n",
      "----------------------------------------------------\n",
      "Running classifier: KNeighborsClassifier\n",
      "\n",
      "Fitting 5 folds for each of 25 candidates, totalling 125 fits\n",
      "cputime: 135.6 sec\n",
      "----------------------------------------------------\n",
      "Running classifier: DecisionTreeClassifier\n",
      "\n",
      "Fitting 5 folds for each of 375 candidates, totalling 1875 fits\n",
      "cputime: 1484.7 sec\n",
      "----------------------------------------------------\n",
      "Running classifier: SVC\n",
      "\n",
      "Fitting 5 folds for each of 12 candidates, totalling 60 fits\n",
      "cputime: 349.1 sec\n",
      "----------------------------------------------------\n"
     ]
    }
   ],
   "source": [
    "# gather results for all classifiers with given hyperparameters\n",
    "\n",
    "all_results = fit_all_grids(classifiers, X_train, y_train_numeric, hyperparams, \\\n",
    "                            n_jobs=5, cv=5, scoring='accuracy', verbose=10)"
   ]
  },
  {
   "cell_type": "code",
   "execution_count": 24,
   "metadata": {},
   "outputs": [
    {
     "name": "stdout",
     "output_type": "stream",
     "text": [
      "Results for classifier: LogisticRegression\n",
      "\n",
      "The best train score using scoring metric \"accuracy\" is:  0.900091\n",
      "The best test  score using scoring metric \"accuracy\" is:  0.896091\n",
      "----------------------------------------------------\n",
      "Results for classifier: KNeighborsClassifier\n",
      "\n",
      "The best train score using scoring metric \"accuracy\" is:  0.900577\n",
      "The best test  score using scoring metric \"accuracy\" is:  0.897427\n",
      "----------------------------------------------------\n",
      "Results for classifier: DecisionTreeClassifier\n",
      "\n",
      "The best train score using scoring metric \"accuracy\" is:  0.899697\n",
      "The best test  score using scoring metric \"accuracy\" is:  0.897305\n",
      "----------------------------------------------------\n",
      "Results for classifier: SVC\n",
      "\n",
      "The best train score using scoring metric \"accuracy\" is:  0.900243\n",
      "The best test  score using scoring metric \"accuracy\" is:  0.897184\n",
      "----------------------------------------------------\n"
     ]
    }
   ],
   "source": [
    "# score the fit classifiers\n",
    "\n",
    "model_df = gen_scores(all_results, X_test, y_test_numeric)"
   ]
  },
  {
   "cell_type": "code",
   "execution_count": 30,
   "metadata": {
    "scrolled": true
   },
   "outputs": [
    {
     "data": {
      "text/html": [
       "<div>\n",
       "<style scoped>\n",
       "    .dataframe tbody tr th:only-of-type {\n",
       "        vertical-align: middle;\n",
       "    }\n",
       "\n",
       "    .dataframe tbody tr th {\n",
       "        vertical-align: top;\n",
       "    }\n",
       "\n",
       "    .dataframe thead th {\n",
       "        text-align: right;\n",
       "    }\n",
       "</style>\n",
       "<table border=\"1\" class=\"dataframe\">\n",
       "  <thead>\n",
       "    <tr style=\"text-align: right;\">\n",
       "      <th></th>\n",
       "      <th>Model</th>\n",
       "      <th>Train Time</th>\n",
       "      <th>Train roc_auc</th>\n",
       "      <th>Test roc_auc</th>\n",
       "    </tr>\n",
       "  </thead>\n",
       "  <tbody>\n",
       "    <tr>\n",
       "      <th>0</th>\n",
       "      <td>LogisticRegression</td>\n",
       "      <td>139.933950</td>\n",
       "      <td>0.792407</td>\n",
       "      <td>0.803590</td>\n",
       "    </tr>\n",
       "    <tr>\n",
       "      <th>1</th>\n",
       "      <td>KNeighborsClassifier</td>\n",
       "      <td>166.425589</td>\n",
       "      <td>0.774906</td>\n",
       "      <td>0.795134</td>\n",
       "    </tr>\n",
       "    <tr>\n",
       "      <th>2</th>\n",
       "      <td>DecisionTreeClassifier</td>\n",
       "      <td>1739.312924</td>\n",
       "      <td>0.787451</td>\n",
       "      <td>0.796660</td>\n",
       "    </tr>\n",
       "    <tr>\n",
       "      <th>3</th>\n",
       "      <td>SVC</td>\n",
       "      <td>369.220548</td>\n",
       "      <td>0.716572</td>\n",
       "      <td>0.720708</td>\n",
       "    </tr>\n",
       "  </tbody>\n",
       "</table>\n",
       "</div>"
      ],
      "text/plain": [
       "                    Model   Train Time  Train roc_auc  Test roc_auc\n",
       "0      LogisticRegression   139.933950       0.792407      0.803590\n",
       "1    KNeighborsClassifier   166.425589       0.774906      0.795134\n",
       "2  DecisionTreeClassifier  1739.312924       0.787451      0.796660\n",
       "3                     SVC   369.220548       0.716572      0.720708"
      ]
     },
     "execution_count": 30,
     "metadata": {},
     "output_type": "execute_result"
    }
   ],
   "source": [
    "model_df"
   ]
  },
  {
   "cell_type": "markdown",
   "metadata": {},
   "source": [
    "**[Response]** Finally, we adjust our performance metric from \"accuracy\" to \"roc_auc\". We do this for two reasons: accuracy results can be less reliable when classes are imbalanced; additionally, using roc_auc allows comparison with other academic work on this dataset."
   ]
  },
  {
   "cell_type": "code",
   "execution_count": 31,
   "metadata": {},
   "outputs": [
    {
     "name": "stdout",
     "output_type": "stream",
     "text": [
      "Running classifier: LogisticRegression\n",
      "\n",
      "Fitting 5 folds for each of 4 candidates, totalling 20 fits\n",
      "cputime: 112.5 sec\n",
      "----------------------------------------------------\n",
      "Running classifier: KNeighborsClassifier\n",
      "\n",
      "Fitting 5 folds for each of 25 candidates, totalling 125 fits\n",
      "cputime: 128.2 sec\n",
      "----------------------------------------------------\n",
      "Running classifier: DecisionTreeClassifier\n",
      "\n",
      "Fitting 5 folds for each of 375 candidates, totalling 1875 fits\n",
      "cputime: 1461.6 sec\n",
      "----------------------------------------------------\n",
      "Running classifier: SVC\n",
      "\n",
      "Fitting 5 folds for each of 12 candidates, totalling 60 fits\n",
      "cputime: 318.7 sec\n",
      "----------------------------------------------------\n"
     ]
    }
   ],
   "source": [
    "# now set the scoring from 'accuracy' to 'roc_auc'\n",
    "# gather results for all classifiers with given hyperparameters\n",
    "\n",
    "all_results = fit_all_grids(classifiers, X_train, y_train_numeric, hyperparams, \\\n",
    "                            n_jobs=5, cv=5, scoring='roc_auc', verbose=10)"
   ]
  },
  {
   "cell_type": "code",
   "execution_count": 32,
   "metadata": {},
   "outputs": [
    {
     "name": "stdout",
     "output_type": "stream",
     "text": [
      "Results for classifier: LogisticRegression\n",
      "\n",
      "The best train score using scoring metric \"roc_auc\" is:  0.792407\n",
      "The best test  score using scoring metric \"roc_auc\" is:  0.803590\n",
      "----------------------------------------------------\n",
      "Results for classifier: KNeighborsClassifier\n",
      "\n",
      "The best train score using scoring metric \"roc_auc\" is:  0.774906\n",
      "The best test  score using scoring metric \"roc_auc\" is:  0.795134\n",
      "----------------------------------------------------\n",
      "Results for classifier: DecisionTreeClassifier\n",
      "\n",
      "The best train score using scoring metric \"roc_auc\" is:  0.787451\n",
      "The best test  score using scoring metric \"roc_auc\" is:  0.796660\n",
      "----------------------------------------------------\n",
      "Results for classifier: SVC\n",
      "\n",
      "The best train score using scoring metric \"roc_auc\" is:  0.716572\n",
      "The best test  score using scoring metric \"roc_auc\" is:  0.720708\n",
      "----------------------------------------------------\n"
     ]
    }
   ],
   "source": [
    "# score the fit classifiers\n",
    "\n",
    "model_df = gen_scores(all_results, X_test, y_test_numeric)"
   ]
  },
  {
   "cell_type": "code",
   "execution_count": 33,
   "metadata": {},
   "outputs": [
    {
     "data": {
      "text/html": [
       "<div>\n",
       "<style scoped>\n",
       "    .dataframe tbody tr th:only-of-type {\n",
       "        vertical-align: middle;\n",
       "    }\n",
       "\n",
       "    .dataframe tbody tr th {\n",
       "        vertical-align: top;\n",
       "    }\n",
       "\n",
       "    .dataframe thead th {\n",
       "        text-align: right;\n",
       "    }\n",
       "</style>\n",
       "<table border=\"1\" class=\"dataframe\">\n",
       "  <thead>\n",
       "    <tr style=\"text-align: right;\">\n",
       "      <th></th>\n",
       "      <th>Model</th>\n",
       "      <th>Train Time</th>\n",
       "      <th>Train roc_auc</th>\n",
       "      <th>Test roc_auc</th>\n",
       "    </tr>\n",
       "  </thead>\n",
       "  <tbody>\n",
       "    <tr>\n",
       "      <th>0</th>\n",
       "      <td>LogisticRegression</td>\n",
       "      <td>112.548245</td>\n",
       "      <td>0.792407</td>\n",
       "      <td>0.803590</td>\n",
       "    </tr>\n",
       "    <tr>\n",
       "      <th>1</th>\n",
       "      <td>KNeighborsClassifier</td>\n",
       "      <td>128.177322</td>\n",
       "      <td>0.774906</td>\n",
       "      <td>0.795134</td>\n",
       "    </tr>\n",
       "    <tr>\n",
       "      <th>2</th>\n",
       "      <td>DecisionTreeClassifier</td>\n",
       "      <td>1461.629250</td>\n",
       "      <td>0.787451</td>\n",
       "      <td>0.796660</td>\n",
       "    </tr>\n",
       "    <tr>\n",
       "      <th>3</th>\n",
       "      <td>SVC</td>\n",
       "      <td>318.704282</td>\n",
       "      <td>0.716572</td>\n",
       "      <td>0.720708</td>\n",
       "    </tr>\n",
       "  </tbody>\n",
       "</table>\n",
       "</div>"
      ],
      "text/plain": [
       "                    Model   Train Time  Train roc_auc  Test roc_auc\n",
       "0      LogisticRegression   112.548245       0.792407      0.803590\n",
       "1    KNeighborsClassifier   128.177322       0.774906      0.795134\n",
       "2  DecisionTreeClassifier  1461.629250       0.787451      0.796660\n",
       "3                     SVC   318.704282       0.716572      0.720708"
      ]
     },
     "execution_count": 33,
     "metadata": {},
     "output_type": "execute_result"
    }
   ],
   "source": [
    "model_df"
   ]
  },
  {
   "cell_type": "markdown",
   "metadata": {},
   "source": [
    "**[Response]** Here we note that the SVC classifier performed poorly in our analysis, whereas it performed better in our comparison analysis. We expect that a fuller exploration of hyperparameters, including the slower-running linear and polynomial kernels could contribute meaningful performance gains to our SVC model. "
   ]
  },
  {
   "cell_type": "code",
   "execution_count": 34,
   "metadata": {},
   "outputs": [
    {
     "data": {
      "text/plain": [
       "Text(0.5, 1.0, 'Confusion Matrix - Best Classifier')"
      ]
     },
     "execution_count": 34,
     "metadata": {},
     "output_type": "execute_result"
    },
    {
     "data": {
      "image/png": "[encoded data removed]",
      "text/plain": [
       "<Figure size 1100x700 with 2 Axes>"
      ]
     },
     "metadata": {},
     "output_type": "display_data"
    }
   ],
   "source": [
    "# Plot ROC Curve for all classifiers \n",
    "\n",
    "fig, axes = plt.subplots(nrows=1, ncols=2, figsize=(11,7), gridspec_kw={'width_ratios': [2.5, 1]})\n",
    "for grid in all_results:\n",
    "    classifier_name = type(grid.best_estimator_['classifier']).__name__\n",
    "    RocCurveDisplay.from_estimator(grid, X_test, y_test_numeric, pos_label=1, ax=axes[0], label=classifier_name)\n",
    "axes[0].grid()\n",
    "axes[0].plot(np.arange(0, 1.1, .1), np.arange(0, 1.1, .1), label='baseline')\n",
    "axes[0].set_title('ROC Curve - All Classifiers')\n",
    "axes[0].legend()\n",
    "\n",
    "# Plot confusion matrix from the best classifier only\n",
    "\n",
    "ConfusionMatrixDisplay.from_predictions(y_test_numeric, all_results[0].predict(X_test), ax=axes[1], \\\n",
    "                                        colorbar=False, display_labels=['reject', 'accept'])\n",
    "axes[1].set_title('Confusion Matrix - Best Classifier')"
   ]
  },
  {
   "cell_type": "markdown",
   "metadata": {},
   "source": [
    "**[Response]** We include below the results from a prior academic work for comparison. The full results of this study can be [found here](https://archive.ics.uci.edu/ml/datasets/bank+marketing). \n",
    "\n",
    "We used many classifiers in common: DT, SV, LR. Our analysis included KNN, whereas the other study included a neural net. The neural net was able to obtain the best results in our comparison study.\n",
    "\n",
    "Overall our results compare favorably with this study."
   ]
  },
  {
   "cell_type": "markdown",
   "metadata": {},
   "source": [
    "![Comparison Study Results](img/bank-results.png)"
   ]
  },
  {
   "cell_type": "markdown",
   "metadata": {},
   "source": [
    "#### Additional Scoring Metrics\n",
    "\n",
    "**[Response]**\n",
    "We discuss 2 additional scoring metrics beyond accuracy and roc_auc. Using our confusion matrix above, we calculate both the MCC and lift metrics as described [here](https://biodatamining.biomedcentral.com/articles/10.1186/s13040-023-00322-4) and [here](https://rasbt.github.io/mlxtend/user_guide/evaluate/lift_score/). Both metrics use the confusion matrix to assess the quality of a prediction.\n",
    "\n",
    "MCC, the Matthews correlation coefficient, provides additional context for predictive classification. The MCC ranges from -1 to +1. -1 corresponds to perfect inverse predictive ability, and +1 corresponds with perfect preditive ability. Derivation of the MCC metric is shown below:\n",
    "\n"
   ]
  },
  {
   "cell_type": "markdown",
   "metadata": {},
   "source": [
    "![MCC](img/MCC.png)"
   ]
  },
  {
   "cell_type": "markdown",
   "metadata": {},
   "source": [
    "Similarly, the Lift metric provides support for the quality of a prediction vs. that of random predictions. Lift scores range from 0 to ∞. Any score above the target rate is suggestive of predictive ability. The Lift metric calculation is shown below:"
   ]
  },
  {
   "cell_type": "markdown",
   "metadata": {},
   "source": [
    "![Lift](img/Lift.png)"
   ]
  },
  {
   "cell_type": "markdown",
   "metadata": {},
   "source": [
    "Using the confusion matrix for our best classifier (Logistic Regression), we calculate the MCC score at 0.35, and the Lift score of 5.91. This compares with 0.02 and 5.39 for the Zero Rule (baseline). Both statistics, and especially the MCC, are suggestive of the positive impact of our model on the likelihood our model predicts consumers' acceptance of the bank's interest rate product."
   ]
  },
  {
   "cell_type": "code",
   "execution_count": null,
   "metadata": {},
   "outputs": [],
   "source": []
  },
  {
   "cell_type": "markdown",
   "metadata": {},
   "source": [
    "### Conclusions\n",
    "**[Response]**\n",
    "Using 4 classifiers (Logistic Regression, KNN, Decision Trees, and SVM), we applied standard modeling techniques to optimize predictions about customer behavior. Our models predict which customers are likely to purchase the bank's interest rate product based on customer information readily available to the business.\n",
    "\n",
    "All classifiers had similar performance (excepting the SVC), despite having very different runtimes and underlying methods.\n",
    "\n",
    "Our first attempts at optimizing accuracy showed that our models were only slightly better than the Zero Rule, where the Zero Rule accuracy was 88.3% and our models achieved 89.7%.\n",
    "\n",
    "We optimized our models against the roc_auc metric for comparison with a similar study on this dataset, and found we were reasonably close to this study's performance across most models. Our SVC model would need additional tuning to match the results found in this study.\n",
    "\n",
    "Finally, we discussed 2 other metrics (MCC and Lift) as a way of expressing predictive ability. Using the MCC especially, we noted a moderate predictive ability of our models.\n",
    "\n",
    "We believe additional performance gains can be made by taking 2 additional actions:\n",
    "1. continued tuning of hyperparameters (with extra focus on SVC)\n",
    "2. selection of training data to focus more on the rarer data - customers that accepted the offer"
   ]
  },
  {
   "cell_type": "markdown",
   "metadata": {},
   "source": [
    "### Next Steps\n",
    "**[Response]**\n",
    "As a business conclusion, our models are aligned with those of other researchers using the same dataset. These models give some predictive ability but the best available techniques have room to improve when it comes to predicting accurately which customers will buy the product.\n",
    "\n",
    "We already see the ability of our models to make good predictive suggestions using higher sensitivity, so one application of our data would be to provide the business subsets of customers which have a higher likelihood of accepting the offer than others. Following additional model tuning (noted in our conclusion), we expect our predictions to be improved further.\n",
    "\n",
    "Additionally, we would recommend the business consider adding additional metrics if possible that may improve accuracy. Another suggestion would be to consider lower cost ways of contacting and/or marketing to consumers which might provide a greater reach than targeted marketing alone. "
   ]
  },
  {
   "cell_type": "code",
   "execution_count": null,
   "metadata": {},
   "outputs": [],
   "source": []
  },
  {
   "cell_type": "code",
   "execution_count": null,
   "metadata": {},
   "outputs": [],
   "source": []
  },
  {
   "cell_type": "markdown",
   "metadata": {},
   "source": [
    "##### Questions"
   ]
  }
 ],
 "metadata": {
  "kernelspec": {
   "display_name": "Python 3 (ipykernel)",
   "language": "python",
   "name": "python3"
  },
  "language_info": {
   "codemirror_mode": {
    "name": "ipython",
    "version": 3
   },
   "file_extension": ".py",
   "mimetype": "text/x-python",
   "name": "python",
   "nbconvert_exporter": "python",
   "pygments_lexer": "ipython3",
   "version": "3.11.5"
  },
  "widgets": {
   "application/vnd.jupyter.widget-state+json": {
    "state": {},
    "version_major": 2,
    "version_minor": 0
   }
  }
 },
 "nbformat": 4,
 "nbformat_minor": 4
}
